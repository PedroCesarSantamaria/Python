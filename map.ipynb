{
 "cells": [
  {
   "cell_type": "code",
   "execution_count": 32,
   "metadata": {},
   "outputs": [
    {
     "name": "stdout",
     "output_type": "stream",
     "text": [
      "[1, 2, 6, 24, 120, 720, 5040, 40320, 362880, 3628800, 39916800, 479001600, 6227020800, 87178291200, 1307674368000]\n"
     ]
    }
   ],
   "source": [
    "def fact(x):\n",
    "    if x > 1:\n",
    "        return x * fact(x - 1)\n",
    "    else:\n",
    "        return x   \n",
    "lista = [1,2,3,4,5,6,7,8,9,10,11,12,13,14,15]\n",
    "resultado = list( map(fact, lista) ) \n",
    "print(resultado)"
   ]
  },
  {
   "cell_type": "code",
   "execution_count": 16,
   "metadata": {},
   "outputs": [
    {
     "name": "stdout",
     "output_type": "stream",
     "text": [
      "[1, 2, 6, 24, 120, 720, 5040, 40320, 362880, 3628800, 39916800, 479001600, 6227020800, 87178291200, 1307674368000]\n"
     ]
    }
   ],
   "source": [
    "def factorial(n):\n",
    "    factorial_total = 1\n",
    "    while n > 1:\n",
    "        factorial_total *= n\n",
    "        n -= 1\n",
    "    return factorial_total\n",
    "lista = [1,2,3,4,5,6,7,8,9,10,11,12,13,14,15]\n",
    "resultado = list( map(factorial, lista) )\n",
    "print(resultado)"
   ]
  }
 ],
 "metadata": {
  "kernelspec": {
   "display_name": "Python 3.8.6 64-bit",
   "name": "python386jvsc74a57bd0d9af2e32a5ad6e5c5f98229481d7f4ca3d60c1f6ad52fd9ba4da285d14500705"
  },
  "language_info": {
   "name": "python",
   "version": ""
  },
  "metadata": {
   "interpreter": {
    "hash": "d9af2e32a5ad6e5c5f98229481d7f4ca3d60c1f6ad52fd9ba4da285d14500705"
   }
  },
  "orig_nbformat": 2
 },
 "nbformat": 4,
 "nbformat_minor": 2
}