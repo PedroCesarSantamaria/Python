{
 "cells": [
  {
   "cell_type": "code",
   "execution_count": 2,
   "metadata": {},
   "outputs": [
    {
     "name": "stdout",
     "output_type": "stream",
     "text": [
      "30\n"
     ]
    }
   ],
   "source": [
    "def crear_funcion(operador):\n",
    "    if operador==\"+\":\n",
    "        def suma(val1=0, val2=0):\n",
    "            return val1+val2\n",
    "        return suma\n",
    "\n",
    "def operacion (funcion, val1=0, val2=0):\n",
    "    return funcion(val1, val2)\n",
    "\n",
    "funcion_suma= crear_funcion(\"+\")\n",
    "resultado=operacion(funcion_suma,10,20)\n",
    "print(resultado)"
   ]
  },
  {
   "cell_type": "code",
   "execution_count": 13,
   "metadata": {},
   "outputs": [
    {
     "name": "stdout",
     "output_type": "stream",
     "text": [
      "40\n"
     ]
    }
   ],
   "source": [
    "suma=lambda val1=0, val2=0:val1+val2\n",
    "operacion=lambda operacion, val1=0, val2=0 : operacion(val2,val2)\n",
    "resultado= operacion (suma, 10, 20)\n",
    "print(resultado)"
   ]
  },
  {
   "cell_type": "code",
   "execution_count": 4,
   "metadata": {},
   "outputs": [
    {
     "name": "stdout",
     "output_type": "stream",
     "text": [
      "[1, 4, 9, 16, 25, 36, 49, 64, 81, 100]\n"
     ]
    }
   ],
   "source": [
    "#Obtener el cuadrado de todos los elementos en la lista.\n",
    "def cuadrado(elemento=0):\n",
    "    return elemento * elemento\n",
    "lista = [1,2,3,4,5,6,7,8,9,10]\n",
    "resultado = list( map(cuadrado, lista) )\n",
    "print(resultado)"
   ]
  },
  {
   "cell_type": "code",
   "execution_count": 6,
   "metadata": {},
   "outputs": [
    {
     "name": "stdout",
     "output_type": "stream",
     "text": [
      "7\n"
     ]
    }
   ],
   "source": [
    "#Obtener la cantidad de elementos mayores a 5 en la tupla.\n",
    "def mayor_a_cinco(elemento):\n",
    "    return elemento > 5\n",
    "tupla = (5,2,6,7,8,10,77,55,2,1,30,4,2,3)\n",
    "resultado = tuple(filter( mayor_a_cinco, tupla))\n",
    "resultado = len(resultado)\n",
    "print(resultado)"
   ]
  },
  {
   "cell_type": "code",
   "execution_count": 8,
   "metadata": {},
   "outputs": [
    {
     "name": "stdout",
     "output_type": "stream",
     "text": [
      "10\n"
     ]
    }
   ],
   "source": [
    "#Obtener la suma de todos los elementos en la lista\n",
    "lista = [1,2,3,4]\n",
    "acumulador = 0\n",
    "for elemento in lista:\n",
    "    acumulador += elemento\n",
    "print(acumulador)"
   ]
  },
  {
   "cell_type": "code",
   "execution_count": 10,
   "metadata": {},
   "outputs": [
    {
     "name": "stdout",
     "output_type": "stream",
     "text": [
      "10\n"
     ]
    }
   ],
   "source": [
    "from functools import reduce\n",
    "lista = [1,2,3,4]\n",
    "def funcion_acumulador(acumulador=0, elemento=0):\n",
    "    return acumulador + elemento\n",
    "resultado = reduce(funcion_acumulador, lista)\n",
    "print(resultado)"
   ]
  },
  {
   "cell_type": "code",
   "execution_count": 12,
   "metadata": {},
   "outputs": [
    {
     "name": "stdout",
     "output_type": "stream",
     "text": [
      "Python - Java - Ruby - Elixir\n"
     ]
    }
   ],
   "source": [
    "#Concatenar todos los elementos de la lista\n",
    "from functools import reduce\n",
    "lista = ['Python', 'Java', 'Ruby', 'Elixir']\n",
    "resultado = reduce(lambda acumulador='', elemento='': acumulador + \" - \" + elemento, lista)\n",
    "print(resultado)"
   ]
  },
  {
   "cell_type": "code",
   "execution_count": null,
   "metadata": {},
   "outputs": [],
   "source": []
  }
 ],
 "metadata": {
  "kernelspec": {
   "display_name": "Python 3.8.6 64-bit",
   "name": "python386jvsc74a57bd0d9af2e32a5ad6e5c5f98229481d7f4ca3d60c1f6ad52fd9ba4da285d14500705"
  },
  "language_info": {
   "codemirror_mode": {
    "name": "ipython",
    "version": 3
   },
   "file_extension": ".py",
   "mimetype": "text/x-python",
   "name": "python",
   "nbconvert_exporter": "python",
   "pygments_lexer": "ipython3",
   "version": "3.8.6"
  },
  "metadata": {
   "interpreter": {
    "hash": "d9af2e32a5ad6e5c5f98229481d7f4ca3d60c1f6ad52fd9ba4da285d14500705"
   }
  },
  "orig_nbformat": 2
 },
 "nbformat": 4,
 "nbformat_minor": 2
}