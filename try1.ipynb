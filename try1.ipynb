{
 "cells": [
  {
   "cell_type": "code",
   "execution_count": 3,
   "metadata": {},
   "outputs": [
    {
     "name": "stdout",
     "output_type": "stream",
     "text": [
      "Ingresa el primer numero\n",
      "Ingresa el segundo numero\n",
      "La suma es:9 \n",
      "La resta es:9 \n",
      "La multiplicacion es:0 \n",
      "La division es: No se puede dividir entre 0\n"
     ]
    }
   ],
   "source": [
    "def suma (val1=0, val2=0):\n",
    "    s=val1+val2\n",
    "    r=val1-val2\n",
    "    try:\n",
    "        d=val1/val2\n",
    "    except:\n",
    "        d=\"No se puede dividir entre 0\"\n",
    "    m=val1*val2\n",
    "    a=(\"La suma es:\" + str(s) + \" \\n\"+\"La resta es:\"+ str(r) +\" \\n\"+\"La multiplicacion es:\"+ str(m) +\" \\n\"+\"La division es: \"+ str(d) )\n",
    "    return a\n",
    "def operacion(funcion, val1=0, val2=0):\n",
    "    return funcion(val1, val2)\n",
    "funcion_suma=suma\n",
    "print(\"Ingresa el primer numero\")\n",
    "x=int(input())\n",
    "print(\"Ingresa el segundo numero\")\n",
    "y=int(input())\n",
    "resultado=operacion(funcion_suma,x,y)\n",
    "print(resultado)"
   ]
  },
  {
   "cell_type": "code",
   "execution_count": null,
   "metadata": {},
   "outputs": [],
   "source": []
  }
 ],
 "metadata": {
  "kernelspec": {
   "display_name": "Python 3.8.6 64-bit",
   "name": "python386jvsc74a57bd0d9af2e32a5ad6e5c5f98229481d7f4ca3d60c1f6ad52fd9ba4da285d14500705"
  },
  "language_info": {
   "codemirror_mode": {
    "name": "ipython",
    "version": 3
   },
   "file_extension": ".py",
   "mimetype": "text/x-python",
   "name": "python",
   "nbconvert_exporter": "python",
   "pygments_lexer": "ipython3",
   "version": "3.8.6"
  },
  "metadata": {
   "interpreter": {
    "hash": "d9af2e32a5ad6e5c5f98229481d7f4ca3d60c1f6ad52fd9ba4da285d14500705"
   }
  },
  "orig_nbformat": 2
 },
 "nbformat": 4,
 "nbformat_minor": 2
}