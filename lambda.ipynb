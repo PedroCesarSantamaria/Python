{
 "cells": [
  {
   "cell_type": "code",
   "execution_count": 2,
   "metadata": {},
   "outputs": [
    {
     "name": "stdout",
     "output_type": "stream",
     "text": [
      "Ingresa el primer numero\n",
      "Ingresa el segundo numero\n",
      "La suma es 11.0\n",
      "La resta es -1.0\n",
      "La multiplicacion es 30.0\n",
      "La division es 0.8333333333333334\n"
     ]
    }
   ],
   "source": [
    "print(\"Ingresa el primer numero\")\n",
    "w=float(input())\n",
    "print(\"Ingresa el segundo numero\")\n",
    "z=float(input())\n",
    "suma = lambda x=0, y=0: x + y\n",
    "operacion = lambda operacion, x=0, y=0 : operacion(x, y)\n",
    "resultado = operacion(suma, w, z)\n",
    "print(\"La suma es \"+str(resultado))\n",
    "\n",
    "resta = lambda x=0, y=0: x - y\n",
    "operacion = lambda operacion, x=0, y=0 : operacion(x, y)\n",
    "resultado = operacion(resta, w, z)\n",
    "print(\"La resta es \"+str(resultado))\n",
    "\n",
    "mult = lambda x=0, y=0: x * y\n",
    "operacion = lambda operacion, x=0, y=0 : operacion(x, y)\n",
    "resultado = operacion(mult, w,z)\n",
    "print(\"La multiplicacion es \"+str(resultado))\n",
    "\n",
    "div = lambda x=0, y=0: x / y\n",
    "operacion = lambda operacion, x=0, y=0 : operacion(x, y)\n",
    "try:\n",
    "    resultado = operacion(div, w, z)\n",
    "    print(\"La division es \"+str(resultado))\n",
    "except:\n",
    "    print (\"No se puede dividir entre cero\")\n",
    "\n"
   ]
  },
  {
   "cell_type": "code",
   "execution_count": null,
   "metadata": {},
   "outputs": [],
   "source": []
  },
  {
   "cell_type": "code",
   "execution_count": null,
   "metadata": {},
   "outputs": [],
   "source": []
  }
 ],
 "metadata": {
  "kernelspec": {
   "display_name": "Python 3.8.6 64-bit",
   "name": "python386jvsc74a57bd0d9af2e32a5ad6e5c5f98229481d7f4ca3d60c1f6ad52fd9ba4da285d14500705"
  },
  "language_info": {
   "codemirror_mode": {
    "name": "ipython",
    "version": 3
   },
   "file_extension": ".py",
   "mimetype": "text/x-python",
   "name": "python",
   "nbconvert_exporter": "python",
   "pygments_lexer": "ipython3",
   "version": "3.8.6"
  },
  "metadata": {
   "interpreter": {
    "hash": "d9af2e32a5ad6e5c5f98229481d7f4ca3d60c1f6ad52fd9ba4da285d14500705"
   }
  },
  "orig_nbformat": 2
 },
 "nbformat": 4,
 "nbformat_minor": 2
}